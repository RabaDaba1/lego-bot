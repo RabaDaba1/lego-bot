{
 "cells": [
  {
   "cell_type": "code",
   "execution_count": 1,
   "metadata": {},
   "outputs": [],
   "source": [
    "from Set import *\n",
    "import pandas as pd\n",
    "import db"
   ]
  },
  {
   "cell_type": "code",
   "execution_count": 12,
   "metadata": {},
   "outputs": [],
   "source": [
    "set_id = 40539"
   ]
  },
  {
   "cell_type": "code",
   "execution_count": 11,
   "metadata": {},
   "outputs": [
    {
     "name": "stdout",
     "output_type": "stream",
     "text": [
      "More than one set ID found in title: Lego GwP 40591 + Ahsoka 40539 + moneta + 30654\n",
      "More than one set ID found in title: Klocki Lego Star Wars 40539 Ahsoka + 40547 Obi-Wan Vader NOWE\n",
      "More than one set ID found in title: zestaw 40547 Obi-Wan Kenobi, Darth Vader 40539 Ahsoka Tano Star Wars\n"
     ]
    }
   ],
   "source": [
    "new_set = Set(set_id)"
   ]
  },
  {
   "cell_type": "code",
   "execution_count": 4,
   "metadata": {},
   "outputs": [
    {
     "data": {
      "text/html": [
       "<div>\n",
       "<style scoped>\n",
       "    .dataframe tbody tr th:only-of-type {\n",
       "        vertical-align: middle;\n",
       "    }\n",
       "\n",
       "    .dataframe tbody tr th {\n",
       "        vertical-align: top;\n",
       "    }\n",
       "\n",
       "    .dataframe thead th {\n",
       "        text-align: right;\n",
       "    }\n",
       "</style>\n",
       "<table border=\"1\" class=\"dataframe\">\n",
       "  <thead>\n",
       "    <tr style=\"text-align: right;\">\n",
       "      <th></th>\n",
       "      <th>url</th>\n",
       "      <th>set_id</th>\n",
       "      <th>date_added</th>\n",
       "      <th>date_sold</th>\n",
       "      <th>title</th>\n",
       "      <th>description</th>\n",
       "      <th>price</th>\n",
       "      <th>is_negotiable</th>\n",
       "      <th>is_active</th>\n",
       "    </tr>\n",
       "  </thead>\n",
       "  <tbody>\n",
       "    <tr>\n",
       "      <th>CID88-IDPRacA</th>\n",
       "      <td>https://www.olx.pl/d/oferta/lego-brick-headz-4...</td>\n",
       "      <td>40539.0</td>\n",
       "      <td>2023-05-18</td>\n",
       "      <td>None</td>\n",
       "      <td>LEGO Brick Headz 40539 Ahsoka nowe</td>\n",
       "      <td>Na sprzedaz nowy zestaw z prywatnej kolekcji L...</td>\n",
       "      <td>80.0</td>\n",
       "      <td>False</td>\n",
       "      <td>True</td>\n",
       "    </tr>\n",
       "    <tr>\n",
       "      <th>CID4042-IDQbXvq</th>\n",
       "      <td>https://www.olx.pl/d/oferta/ahsoka-lego-brickh...</td>\n",
       "      <td>40539.0</td>\n",
       "      <td>2023-05-08</td>\n",
       "      <td>None</td>\n",
       "      <td>Ahsoka lego Brickheadz 40539 (Lego Star Wars) ...</td>\n",
       "      <td>Dzien dobry,  Nowy Zestaw LEGO BrickHeadz - Ah...</td>\n",
       "      <td>55.0</td>\n",
       "      <td>False</td>\n",
       "      <td>True</td>\n",
       "    </tr>\n",
       "    <tr>\n",
       "      <th>CID88-IDUtueX</th>\n",
       "      <td>https://www.olx.pl/d/oferta/lego-40539-brickhe...</td>\n",
       "      <td>40539.0</td>\n",
       "      <td>2023-05-15</td>\n",
       "      <td>None</td>\n",
       "      <td>LEGO® 40539 BrickHeadz - Ahsoka Tano</td>\n",
       "      <td>Do sprzedania zestaw LEGO® 40539 BrickHeadz - ...</td>\n",
       "      <td>55.0</td>\n",
       "      <td>True</td>\n",
       "      <td>True</td>\n",
       "    </tr>\n",
       "    <tr>\n",
       "      <th>CID88-IDTHnuI</th>\n",
       "      <td>https://www.olx.pl/d/oferta/lego-40539-ahsoka-...</td>\n",
       "      <td>40539.0</td>\n",
       "      <td>2023-04-17</td>\n",
       "      <td>None</td>\n",
       "      <td>LEGO 40539 Ahsoka Tano</td>\n",
       "      <td>Zestaw nowy, zamkniety, zaplombowany oryginaln...</td>\n",
       "      <td>55.0</td>\n",
       "      <td>False</td>\n",
       "      <td>True</td>\n",
       "    </tr>\n",
       "    <tr>\n",
       "      <th>CID88-IDSqml7</th>\n",
       "      <td>https://www.olx.pl/d/oferta/lego-star-wars-405...</td>\n",
       "      <td>40539.0</td>\n",
       "      <td>2023-04-20</td>\n",
       "      <td>None</td>\n",
       "      <td>Lego Star Wars 40539 Ahsoka Tano</td>\n",
       "      <td>Nowe oryginalne klocki Lego Star Wars 40539 Ah...</td>\n",
       "      <td>60.0</td>\n",
       "      <td>False</td>\n",
       "      <td>True</td>\n",
       "    </tr>\n",
       "  </tbody>\n",
       "</table>\n",
       "</div>"
      ],
      "text/plain": [
       "                                                               url   set_id   \n",
       "CID88-IDPRacA    https://www.olx.pl/d/oferta/lego-brick-headz-4...  40539.0  \\\n",
       "CID4042-IDQbXvq  https://www.olx.pl/d/oferta/ahsoka-lego-brickh...  40539.0   \n",
       "CID88-IDUtueX    https://www.olx.pl/d/oferta/lego-40539-brickhe...  40539.0   \n",
       "CID88-IDTHnuI    https://www.olx.pl/d/oferta/lego-40539-ahsoka-...  40539.0   \n",
       "CID88-IDSqml7    https://www.olx.pl/d/oferta/lego-star-wars-405...  40539.0   \n",
       "\n",
       "                 date_added date_sold   \n",
       "CID88-IDPRacA    2023-05-18      None  \\\n",
       "CID4042-IDQbXvq  2023-05-08      None   \n",
       "CID88-IDUtueX    2023-05-15      None   \n",
       "CID88-IDTHnuI    2023-04-17      None   \n",
       "CID88-IDSqml7    2023-04-20      None   \n",
       "\n",
       "                                                             title   \n",
       "CID88-IDPRacA                   LEGO Brick Headz 40539 Ahsoka nowe  \\\n",
       "CID4042-IDQbXvq  Ahsoka lego Brickheadz 40539 (Lego Star Wars) ...   \n",
       "CID88-IDUtueX                 LEGO® 40539 BrickHeadz - Ahsoka Tano   \n",
       "CID88-IDTHnuI                               LEGO 40539 Ahsoka Tano   \n",
       "CID88-IDSqml7                     Lego Star Wars 40539 Ahsoka Tano   \n",
       "\n",
       "                                                       description  price   \n",
       "CID88-IDPRacA    Na sprzedaz nowy zestaw z prywatnej kolekcji L...   80.0  \\\n",
       "CID4042-IDQbXvq  Dzien dobry,  Nowy Zestaw LEGO BrickHeadz - Ah...   55.0   \n",
       "CID88-IDUtueX    Do sprzedania zestaw LEGO® 40539 BrickHeadz - ...   55.0   \n",
       "CID88-IDTHnuI    Zestaw nowy, zamkniety, zaplombowany oryginaln...   55.0   \n",
       "CID88-IDSqml7    Nowe oryginalne klocki Lego Star Wars 40539 Ah...   60.0   \n",
       "\n",
       "                is_negotiable  is_active  \n",
       "CID88-IDPRacA           False       True  \n",
       "CID4042-IDQbXvq         False       True  \n",
       "CID88-IDUtueX            True       True  \n",
       "CID88-IDTHnuI           False       True  \n",
       "CID88-IDSqml7           False       True  "
      ]
     },
     "execution_count": 4,
     "metadata": {},
     "output_type": "execute_result"
    }
   ],
   "source": [
    "df = pd.DataFrame(\n",
    "        [offer.get_tuple()[1:] for offer in new_set.offers],\n",
    "        index=[offer.offer_id for offer in new_set.offers],\n",
    "        columns=['url', 'set_id', 'date_added', 'date_sold', 'title', 'description', 'price', 'is_negotiable', 'is_active']\n",
    "    )\n",
    "df.head()"
   ]
  },
  {
   "cell_type": "code",
   "execution_count": 5,
   "metadata": {},
   "outputs": [],
   "source": [
    "# df.info()"
   ]
  },
  {
   "cell_type": "code",
   "execution_count": 6,
   "metadata": {},
   "outputs": [
    {
     "name": "stdout",
     "output_type": "stream",
     "text": [
      "--------------------------------------\n",
      "Set 40539 sold for 49.99zł after 16 days: https://www.olx.pl/d/oferta/lego-brickheadz-40539-ahsoka-tan-CID88-IDUmzxU.html\n",
      "--------------------------------------\n",
      "Offers for set 40539 updated\n"
     ]
    }
   ],
   "source": [
    "new_set.update_db()"
   ]
  },
  {
   "cell_type": "code",
   "execution_count": 12,
   "metadata": {},
   "outputs": [],
   "source": [
    "df = pd.DataFrame(db.get_offers(set_id), columns=['offer_id', 'url', 'set_id', 'date_added', 'date_sold', 'title', 'description', 'price', 'is_negotiable', 'is_active'])"
   ]
  },
  {
   "cell_type": "code",
   "execution_count": 13,
   "metadata": {},
   "outputs": [
    {
     "data": {
      "text/html": [
       "<div>\n",
       "<style scoped>\n",
       "    .dataframe tbody tr th:only-of-type {\n",
       "        vertical-align: middle;\n",
       "    }\n",
       "\n",
       "    .dataframe tbody tr th {\n",
       "        vertical-align: top;\n",
       "    }\n",
       "\n",
       "    .dataframe thead th {\n",
       "        text-align: right;\n",
       "    }\n",
       "</style>\n",
       "<table border=\"1\" class=\"dataframe\">\n",
       "  <thead>\n",
       "    <tr style=\"text-align: right;\">\n",
       "      <th></th>\n",
       "      <th>offer_id</th>\n",
       "      <th>url</th>\n",
       "      <th>set_id</th>\n",
       "      <th>date_added</th>\n",
       "      <th>date_sold</th>\n",
       "      <th>title</th>\n",
       "      <th>description</th>\n",
       "      <th>price</th>\n",
       "      <th>is_negotiable</th>\n",
       "      <th>is_active</th>\n",
       "    </tr>\n",
       "  </thead>\n",
       "  <tbody>\n",
       "    <tr>\n",
       "      <th>4</th>\n",
       "      <td>CID88-IDUpj2g</td>\n",
       "      <td>https://www.olx.pl/d/oferta/lego-40539-ahsoka-...</td>\n",
       "      <td>40539</td>\n",
       "      <td>2023-05-05</td>\n",
       "      <td>2023-05-16</td>\n",
       "      <td>Lego 40539 - Ahsoka Tano</td>\n",
       "      <td>Sprzedam: Lego 40539 - Ahsoka Tano Zestaw nowy...</td>\n",
       "      <td>50.00</td>\n",
       "      <td>0</td>\n",
       "      <td>0</td>\n",
       "    </tr>\n",
       "    <tr>\n",
       "      <th>8</th>\n",
       "      <td>CID88-IDUt3yo</td>\n",
       "      <td>https://www.olx.pl/d/oferta/lego-brickheadz-40...</td>\n",
       "      <td>40539</td>\n",
       "      <td>2023-05-08</td>\n",
       "      <td>2023-05-16</td>\n",
       "      <td>Lego Brickheadz 40539 Ahsoka Tano</td>\n",
       "      <td>Zestaw nowy nieotwierany. Pudelko w idealnym s...</td>\n",
       "      <td>45.00</td>\n",
       "      <td>0</td>\n",
       "      <td>0</td>\n",
       "    </tr>\n",
       "    <tr>\n",
       "      <th>9</th>\n",
       "      <td>CID88-IDUmzxU</td>\n",
       "      <td>https://www.olx.pl/d/oferta/lego-brickheadz-40...</td>\n",
       "      <td>40539</td>\n",
       "      <td>2023-05-02</td>\n",
       "      <td>2023-05-18</td>\n",
       "      <td>lego brickheadz 40539 Ahsoka Tan</td>\n",
       "      <td>Czesc, posiadam na sprzedaz nowe, fabrycznie z...</td>\n",
       "      <td>49.99</td>\n",
       "      <td>0</td>\n",
       "      <td>0</td>\n",
       "    </tr>\n",
       "    <tr>\n",
       "      <th>11</th>\n",
       "      <td>CID88-IDUoexc</td>\n",
       "      <td>https://www.olx.pl/d/oferta/lego-40539-brickhe...</td>\n",
       "      <td>40539</td>\n",
       "      <td>2023-05-03</td>\n",
       "      <td>2023-05-17</td>\n",
       "      <td>LEGO 40539 BrickHeadz - Ahsoka Tano - NOWE Wro...</td>\n",
       "      <td>Sprzedam nowy, fabrycznie zaplombowany, zestaw...</td>\n",
       "      <td>49.90</td>\n",
       "      <td>0</td>\n",
       "      <td>0</td>\n",
       "    </tr>\n",
       "    <tr>\n",
       "      <th>43</th>\n",
       "      <td>CID88-IDUA5XV</td>\n",
       "      <td>https://www.olx.pl/d/oferta/lego-star-wars-405...</td>\n",
       "      <td>40539</td>\n",
       "      <td>2023-05-16</td>\n",
       "      <td>2023-05-17</td>\n",
       "      <td>LEGO Star Wars 40539 Ahsoka Tano Brickheadz</td>\n",
       "      <td>Witam,   Mam na sprzedaz zestaw LEGO Star Wars...</td>\n",
       "      <td>40.00</td>\n",
       "      <td>0</td>\n",
       "      <td>0</td>\n",
       "    </tr>\n",
       "  </tbody>\n",
       "</table>\n",
       "</div>"
      ],
      "text/plain": [
       "         offer_id                                                url  set_id   \n",
       "4   CID88-IDUpj2g  https://www.olx.pl/d/oferta/lego-40539-ahsoka-...   40539  \\\n",
       "8   CID88-IDUt3yo  https://www.olx.pl/d/oferta/lego-brickheadz-40...   40539   \n",
       "9   CID88-IDUmzxU  https://www.olx.pl/d/oferta/lego-brickheadz-40...   40539   \n",
       "11  CID88-IDUoexc  https://www.olx.pl/d/oferta/lego-40539-brickhe...   40539   \n",
       "43  CID88-IDUA5XV  https://www.olx.pl/d/oferta/lego-star-wars-405...   40539   \n",
       "\n",
       "    date_added   date_sold                                              title   \n",
       "4   2023-05-05  2023-05-16                           Lego 40539 - Ahsoka Tano  \\\n",
       "8   2023-05-08  2023-05-16                  Lego Brickheadz 40539 Ahsoka Tano   \n",
       "9   2023-05-02  2023-05-18                   lego brickheadz 40539 Ahsoka Tan   \n",
       "11  2023-05-03  2023-05-17  LEGO 40539 BrickHeadz - Ahsoka Tano - NOWE Wro...   \n",
       "43  2023-05-16  2023-05-17        LEGO Star Wars 40539 Ahsoka Tano Brickheadz   \n",
       "\n",
       "                                          description  price  is_negotiable   \n",
       "4   Sprzedam: Lego 40539 - Ahsoka Tano Zestaw nowy...  50.00              0  \\\n",
       "8   Zestaw nowy nieotwierany. Pudelko w idealnym s...  45.00              0   \n",
       "9   Czesc, posiadam na sprzedaz nowe, fabrycznie z...  49.99              0   \n",
       "11  Sprzedam nowy, fabrycznie zaplombowany, zestaw...  49.90              0   \n",
       "43  Witam,   Mam na sprzedaz zestaw LEGO Star Wars...  40.00              0   \n",
       "\n",
       "    is_active  \n",
       "4           0  \n",
       "8           0  \n",
       "9           0  \n",
       "11          0  \n",
       "43          0  "
      ]
     },
     "execution_count": 13,
     "metadata": {},
     "output_type": "execute_result"
    }
   ],
   "source": [
    "filtr = df['date_sold'].notnull()\n",
    "\n",
    "df_sold = df[filtr]\n",
    "df_sold"
   ]
  },
  {
   "cell_type": "code",
   "execution_count": 8,
   "metadata": {},
   "outputs": [
    {
     "data": {
      "text/plain": [
       "<matplotlib.collections.PathCollection at 0x21eff61e6d0>"
      ]
     },
     "execution_count": 8,
     "metadata": {},
     "output_type": "execute_result"
    },
    {
     "data": {
      "image/png": "[encoded data removed]",
      "text/plain": [
       "<Figure size 640x480 with 1 Axes>"
      ]
     },
     "metadata": {},
     "output_type": "display_data"
    }
   ],
   "source": [
    "import matplotlib.pyplot as plt\n",
    "\n",
    "plt.scatter(df_sold['date_sold'], df_sold['price'])"
   ]
  }
 ],
 "metadata": {
  "kernelspec": {
   "display_name": "Python 3",
   "language": "python",
   "name": "python3"
  },
  "language_info": {
   "codemirror_mode": {
    "name": "ipython",
    "version": 3
   },
   "file_extension": ".py",
   "mimetype": "text/x-python",
   "name": "python",
   "nbconvert_exporter": "python",
   "pygments_lexer": "ipython3",
   "version": "3.11.3"
  },
  "orig_nbformat": 4
 },
 "nbformat": 4,
 "nbformat_minor": 2
}

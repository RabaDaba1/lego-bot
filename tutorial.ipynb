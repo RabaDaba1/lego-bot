{
 "cells": [
  {
   "cell_type": "code",
   "execution_count": 1,
   "metadata": {},
   "outputs": [],
   "source": [
    "from lego_bot.Set import *\n",
    "import lego_bot.db\n",
    "import pandas as pd"
   ]
  },
  {
   "cell_type": "code",
   "execution_count": 2,
   "metadata": {},
   "outputs": [],
   "source": [
    "set_id = 40539"
   ]
  },
  {
   "cell_type": "code",
   "execution_count": 3,
   "metadata": {},
   "outputs": [
    {
     "name": "stdout",
     "output_type": "stream",
     "text": [
      "More than one set ID found in title: Lego Star Wars BrickHeadz 40539 Ahsoka Rabus 40615\n",
      "More than one set ID found in title: Zestawy LEGO 40539, 76900, 76911, 75320, 40367\n",
      "More than one set ID found in title: Lego GwP 40591 + Ahsoka 40539 + moneta + 30654\n",
      "More than one set ID found in title: zestaw 40547 Obi-Wan Kenobi, Darth Vader 40539 Ahsoka Tano Star Wars\n"
     ]
    }
   ],
   "source": [
    "new_set = Set(set_id)"
   ]
  },
  {
   "cell_type": "code",
   "execution_count": 4,
   "metadata": {},
   "outputs": [
    {
     "data": {
      "text/html": [
       "<div>\n",
       "<style scoped>\n",
       "    .dataframe tbody tr th:only-of-type {\n",
       "        vertical-align: middle;\n",
       "    }\n",
       "\n",
       "    .dataframe tbody tr th {\n",
       "        vertical-align: top;\n",
       "    }\n",
       "\n",
       "    .dataframe thead th {\n",
       "        text-align: right;\n",
       "    }\n",
       "</style>\n",
       "<table border=\"1\" class=\"dataframe\">\n",
       "  <thead>\n",
       "    <tr style=\"text-align: right;\">\n",
       "      <th></th>\n",
       "      <th>url</th>\n",
       "      <th>set_id</th>\n",
       "      <th>date_added</th>\n",
       "      <th>date_sold</th>\n",
       "      <th>title</th>\n",
       "      <th>description</th>\n",
       "      <th>price</th>\n",
       "      <th>is_negotiable</th>\n",
       "      <th>is_active</th>\n",
       "    </tr>\n",
       "  </thead>\n",
       "  <tbody>\n",
       "    <tr>\n",
       "      <th>CID88-IDU5n1V</th>\n",
       "      <td>https://www.olx.pl/d/oferta/klocki-lego-brick-...</td>\n",
       "      <td>NaN</td>\n",
       "      <td>None</td>\n",
       "      <td>None</td>\n",
       "      <td>None</td>\n",
       "      <td>None</td>\n",
       "      <td>NaN</td>\n",
       "      <td>None</td>\n",
       "      <td>False</td>\n",
       "    </tr>\n",
       "    <tr>\n",
       "      <th>CID88-IDSTAd2</th>\n",
       "      <td>https://www.olx.pl/d/oferta/brickheadz-ahsoka-...</td>\n",
       "      <td>40539.0</td>\n",
       "      <td>2023-06-28</td>\n",
       "      <td>None</td>\n",
       "      <td>Brickheadz Ahsoka Thano Lego 40539</td>\n",
       "      <td>Nowy , niedopakowany zestaw lego w razie pytan...</td>\n",
       "      <td>90.0</td>\n",
       "      <td>False</td>\n",
       "      <td>True</td>\n",
       "    </tr>\n",
       "    <tr>\n",
       "      <th>CID88-IDShznl</th>\n",
       "      <td>https://www.olx.pl/d/oferta/lego-40539-brickhe...</td>\n",
       "      <td>NaN</td>\n",
       "      <td>None</td>\n",
       "      <td>None</td>\n",
       "      <td>None</td>\n",
       "      <td>None</td>\n",
       "      <td>NaN</td>\n",
       "      <td>None</td>\n",
       "      <td>False</td>\n",
       "    </tr>\n",
       "    <tr>\n",
       "      <th>CID88-IDPqP7m</th>\n",
       "      <td>https://www.olx.pl/d/oferta/lego-star-wars-405...</td>\n",
       "      <td>40539.0</td>\n",
       "      <td>2023-06-25</td>\n",
       "      <td>None</td>\n",
       "      <td>Lego Star Wars 40539 Ahsoka Tano Brickheadz</td>\n",
       "      <td>Zestaw Lego 40539 Star Wars Ahshoka Tano w wer...</td>\n",
       "      <td>70.0</td>\n",
       "      <td>False</td>\n",
       "      <td>True</td>\n",
       "    </tr>\n",
       "    <tr>\n",
       "      <th>CID88-IDUYBUt</th>\n",
       "      <td>https://www.olx.pl/d/oferta/lego-40539-brickhe...</td>\n",
       "      <td>40539.0</td>\n",
       "      <td>2023-06-29</td>\n",
       "      <td>None</td>\n",
       "      <td>LEGO 40539 BrickHeadz - Ahsoka Tano - NOWE Wro...</td>\n",
       "      <td>Sprzedam nowy, fabrycznie zaplombowany, zestaw...</td>\n",
       "      <td>54.9</td>\n",
       "      <td>False</td>\n",
       "      <td>True</td>\n",
       "    </tr>\n",
       "  </tbody>\n",
       "</table>\n",
       "</div>"
      ],
      "text/plain": [
       "                                                             url   set_id   \n",
       "CID88-IDU5n1V  https://www.olx.pl/d/oferta/klocki-lego-brick-...      NaN  \\\n",
       "CID88-IDSTAd2  https://www.olx.pl/d/oferta/brickheadz-ahsoka-...  40539.0   \n",
       "CID88-IDShznl  https://www.olx.pl/d/oferta/lego-40539-brickhe...      NaN   \n",
       "CID88-IDPqP7m  https://www.olx.pl/d/oferta/lego-star-wars-405...  40539.0   \n",
       "CID88-IDUYBUt  https://www.olx.pl/d/oferta/lego-40539-brickhe...  40539.0   \n",
       "\n",
       "               date_added date_sold   \n",
       "CID88-IDU5n1V        None      None  \\\n",
       "CID88-IDSTAd2  2023-06-28      None   \n",
       "CID88-IDShznl        None      None   \n",
       "CID88-IDPqP7m  2023-06-25      None   \n",
       "CID88-IDUYBUt  2023-06-29      None   \n",
       "\n",
       "                                                           title   \n",
       "CID88-IDU5n1V                                               None  \\\n",
       "CID88-IDSTAd2                 Brickheadz Ahsoka Thano Lego 40539   \n",
       "CID88-IDShznl                                               None   \n",
       "CID88-IDPqP7m        Lego Star Wars 40539 Ahsoka Tano Brickheadz   \n",
       "CID88-IDUYBUt  LEGO 40539 BrickHeadz - Ahsoka Tano - NOWE Wro...   \n",
       "\n",
       "                                                     description  price   \n",
       "CID88-IDU5n1V                                               None    NaN  \\\n",
       "CID88-IDSTAd2  Nowy , niedopakowany zestaw lego w razie pytan...   90.0   \n",
       "CID88-IDShznl                                               None    NaN   \n",
       "CID88-IDPqP7m  Zestaw Lego 40539 Star Wars Ahshoka Tano w wer...   70.0   \n",
       "CID88-IDUYBUt  Sprzedam nowy, fabrycznie zaplombowany, zestaw...   54.9   \n",
       "\n",
       "              is_negotiable  is_active  \n",
       "CID88-IDU5n1V          None      False  \n",
       "CID88-IDSTAd2         False       True  \n",
       "CID88-IDShznl          None      False  \n",
       "CID88-IDPqP7m         False       True  \n",
       "CID88-IDUYBUt         False       True  "
      ]
     },
     "execution_count": 4,
     "metadata": {},
     "output_type": "execute_result"
    }
   ],
   "source": [
    "df = new_set.get_scraped_data()\n",
    "df.head()"
   ]
  },
  {
   "cell_type": "code",
   "execution_count": 5,
   "metadata": {},
   "outputs": [
    {
     "name": "stdout",
     "output_type": "stream",
     "text": [
      "<class 'pandas.core.frame.DataFrame'>\n",
      "Index: 63 entries, CID88-IDU5n1V to CID88-IDU1PAx\n",
      "Data columns (total 9 columns):\n",
      " #   Column         Non-Null Count  Dtype  \n",
      "---  ------         --------------  -----  \n",
      " 0   url            63 non-null     object \n",
      " 1   set_id         39 non-null     float64\n",
      " 2   date_added     39 non-null     object \n",
      " 3   date_sold      0 non-null      object \n",
      " 4   title          39 non-null     object \n",
      " 5   description    39 non-null     object \n",
      " 6   price          39 non-null     float64\n",
      " 7   is_negotiable  39 non-null     object \n",
      " 8   is_active      63 non-null     bool   \n",
      "dtypes: bool(1), float64(2), object(6)\n",
      "memory usage: 4.5+ KB\n"
     ]
    }
   ],
   "source": [
    "df.info()"
   ]
  },
  {
   "cell_type": "code",
   "execution_count": 6,
   "metadata": {},
   "outputs": [
    {
     "name": "stdout",
     "output_type": "stream",
     "text": [
      "Offer expired: https://www.olx.pl/d/oferta/lego-40539-brickheadz-ahsoka-tano-katalog-gratis-CID88-IDShznl.html\n",
      "--------------------------------------\n",
      "Offer expired: https://www.olx.pl/d/oferta/lego-brickheadz-40539-star-wars-ahsoka-tano-CID88-IDRXYcI.html\n",
      "--------------------------------------\n",
      "Offer reactivated: https://www.olx.pl/d/oferta/lego-brickheadz-40539-ahsoka-tano-CID88-IDPKioB.html\n",
      "--------------------------------------\n",
      "New offer https://www.olx.pl/d/oferta/klocki-lego-star-wars-40539-ahsoka-tano-CID88-IDWfMCc.html added to database table set_40539\n",
      "--------------------------------------\n",
      "New offer https://www.olx.pl/d/oferta/lego-star-wars-40539-ahsoka-tano-nowe-CID88-IDWeBwb.html added to database table set_40539\n",
      "--------------------------------------\n",
      "Set 40539 sold for 54.9zł after 25 days: https://www.olx.pl/d/oferta/lego-40539-brickheadz-ahsoka-tano-nowy-wroclaw-CID88-IDUZary.html\n",
      "--------------------------------------\n",
      "Set 40539 sold for 44.99zł after 23 days: https://www.olx.pl/d/oferta/klocki-lego-star-wars-40539-ahsoka-tano-brick-headz-CID88-IDW0yzh.html\n",
      "--------------------------------------\n",
      "Offer reactivated: https://www.olx.pl/d/oferta/lego-brickheadz-40539-ahsoka-tano-CID88-IDTfM7W.html\n",
      "--------------------------------------\n",
      "\u001b[92mOffers for set 40539 updated\n"
     ]
    }
   ],
   "source": [
    "new_set.update_db()"
   ]
  },
  {
   "cell_type": "code",
   "execution_count": 13,
   "metadata": {},
   "outputs": [],
   "source": [
    "db_df = pd.DataFrame(db.get_offers(set_id), columns=['offer_id', 'url', 'set_id', 'date_added', 'date_sold', 'title', 'description', 'price', 'is_negotiable', 'is_active'])\n",
    "\n",
    "db_df['date_added'] = pd.to_datetime(db_df['date_added'])\n",
    "db_df['date-sold'] = pd.to_datetime(db_df['date_sold'])"
   ]
  },
  {
   "cell_type": "code",
   "execution_count": 14,
   "metadata": {},
   "outputs": [
    {
     "data": {
      "text/html": [
       "<div>\n",
       "<style scoped>\n",
       "    .dataframe tbody tr th:only-of-type {\n",
       "        vertical-align: middle;\n",
       "    }\n",
       "\n",
       "    .dataframe tbody tr th {\n",
       "        vertical-align: top;\n",
       "    }\n",
       "\n",
       "    .dataframe thead th {\n",
       "        text-align: right;\n",
       "    }\n",
       "</style>\n",
       "<table border=\"1\" class=\"dataframe\">\n",
       "  <thead>\n",
       "    <tr style=\"text-align: right;\">\n",
       "      <th></th>\n",
       "      <th>offer_id</th>\n",
       "      <th>url</th>\n",
       "      <th>set_id</th>\n",
       "      <th>date_added</th>\n",
       "      <th>date_sold</th>\n",
       "      <th>title</th>\n",
       "      <th>description</th>\n",
       "      <th>price</th>\n",
       "      <th>is_negotiable</th>\n",
       "      <th>is_active</th>\n",
       "      <th>date-sold</th>\n",
       "    </tr>\n",
       "  </thead>\n",
       "  <tbody>\n",
       "    <tr>\n",
       "      <th>0</th>\n",
       "      <td>CID88-IDUtueX</td>\n",
       "      <td>https://www.olx.pl/d/oferta/lego-star-wars-405...</td>\n",
       "      <td>40539</td>\n",
       "      <td>2023-05-13</td>\n",
       "      <td>None</td>\n",
       "      <td>LEGO® star wars 40539 BrickHeadz - Ahsoka Tano</td>\n",
       "      <td>Do sprzedania zestaw LEGO® 40539 BrickHeadz - ...</td>\n",
       "      <td>45.0</td>\n",
       "      <td>1</td>\n",
       "      <td>0</td>\n",
       "      <td>NaT</td>\n",
       "    </tr>\n",
       "    <tr>\n",
       "      <th>1</th>\n",
       "      <td>CID88-IDUtwSU</td>\n",
       "      <td>https://www.olx.pl/d/oferta/lego-brickheadz-ah...</td>\n",
       "      <td>40539</td>\n",
       "      <td>2023-05-09</td>\n",
       "      <td>2023-05-27</td>\n",
       "      <td>LEGO BrickHeadz - Ahsoka Tano 40539</td>\n",
       "      <td>Do sprzedania mam NOWY zestaw Lego BrickHeadz ...</td>\n",
       "      <td>45.0</td>\n",
       "      <td>0</td>\n",
       "      <td>0</td>\n",
       "      <td>2023-05-27</td>\n",
       "    </tr>\n",
       "    <tr>\n",
       "      <th>2</th>\n",
       "      <td>CID88-IDUxXnq</td>\n",
       "      <td>https://www.olx.pl/d/oferta/lego-star-wars-405...</td>\n",
       "      <td>40539</td>\n",
       "      <td>2023-05-14</td>\n",
       "      <td>2023-05-31</td>\n",
       "      <td>LEGO star wars 40539 Ashoka Tano BrickHeadz</td>\n",
       "      <td>Przedmiotem aukcji jest zestaw LEGO star wars ...</td>\n",
       "      <td>50.0</td>\n",
       "      <td>0</td>\n",
       "      <td>0</td>\n",
       "      <td>2023-05-31</td>\n",
       "    </tr>\n",
       "    <tr>\n",
       "      <th>3</th>\n",
       "      <td>CID88-IDUpVng</td>\n",
       "      <td>https://www.olx.pl/d/oferta/lego-star-wars-405...</td>\n",
       "      <td>40539</td>\n",
       "      <td>2023-05-05</td>\n",
       "      <td>2023-05-27</td>\n",
       "      <td>Lego Star Wars 40539 Ashoka</td>\n",
       "      <td>Na sprzedaz zestaw lego star wars 40539 brick ...</td>\n",
       "      <td>40.0</td>\n",
       "      <td>0</td>\n",
       "      <td>0</td>\n",
       "      <td>2023-05-27</td>\n",
       "    </tr>\n",
       "    <tr>\n",
       "      <th>4</th>\n",
       "      <td>CID88-IDUpj2g</td>\n",
       "      <td>https://www.olx.pl/d/oferta/lego-40539-ahsoka-...</td>\n",
       "      <td>40539</td>\n",
       "      <td>2023-05-05</td>\n",
       "      <td>2023-05-16</td>\n",
       "      <td>Lego 40539 - Ahsoka Tano</td>\n",
       "      <td>Sprzedam: Lego 40539 - Ahsoka Tano Zestaw nowy...</td>\n",
       "      <td>50.0</td>\n",
       "      <td>0</td>\n",
       "      <td>0</td>\n",
       "      <td>2023-05-16</td>\n",
       "    </tr>\n",
       "  </tbody>\n",
       "</table>\n",
       "</div>"
      ],
      "text/plain": [
       "        offer_id                                                url  set_id   \n",
       "0  CID88-IDUtueX  https://www.olx.pl/d/oferta/lego-star-wars-405...   40539  \\\n",
       "1  CID88-IDUtwSU  https://www.olx.pl/d/oferta/lego-brickheadz-ah...   40539   \n",
       "2  CID88-IDUxXnq  https://www.olx.pl/d/oferta/lego-star-wars-405...   40539   \n",
       "3  CID88-IDUpVng  https://www.olx.pl/d/oferta/lego-star-wars-405...   40539   \n",
       "4  CID88-IDUpj2g  https://www.olx.pl/d/oferta/lego-40539-ahsoka-...   40539   \n",
       "\n",
       "  date_added   date_sold                                           title   \n",
       "0 2023-05-13        None  LEGO® star wars 40539 BrickHeadz - Ahsoka Tano  \\\n",
       "1 2023-05-09  2023-05-27             LEGO BrickHeadz - Ahsoka Tano 40539   \n",
       "2 2023-05-14  2023-05-31     LEGO star wars 40539 Ashoka Tano BrickHeadz   \n",
       "3 2023-05-05  2023-05-27                     Lego Star Wars 40539 Ashoka   \n",
       "4 2023-05-05  2023-05-16                        Lego 40539 - Ahsoka Tano   \n",
       "\n",
       "                                         description  price  is_negotiable   \n",
       "0  Do sprzedania zestaw LEGO® 40539 BrickHeadz - ...   45.0              1  \\\n",
       "1  Do sprzedania mam NOWY zestaw Lego BrickHeadz ...   45.0              0   \n",
       "2  Przedmiotem aukcji jest zestaw LEGO star wars ...   50.0              0   \n",
       "3  Na sprzedaz zestaw lego star wars 40539 brick ...   40.0              0   \n",
       "4  Sprzedam: Lego 40539 - Ahsoka Tano Zestaw nowy...   50.0              0   \n",
       "\n",
       "   is_active  date-sold  \n",
       "0          0        NaT  \n",
       "1          0 2023-05-27  \n",
       "2          0 2023-05-31  \n",
       "3          0 2023-05-27  \n",
       "4          0 2023-05-16  "
      ]
     },
     "execution_count": 14,
     "metadata": {},
     "output_type": "execute_result"
    }
   ],
   "source": [
    "filtr = db_df['date_sold'].notnull()\n",
    "\n",
    "sold_offers = db_df[filtr]\n",
    "db_df.head()"
   ]
  },
  {
   "cell_type": "code",
   "execution_count": 15,
   "metadata": {},
   "outputs": [
    {
     "data": {
      "image/png": "[encoded data removed]",
      "text/plain": [
       "<Figure size 640x480 with 1 Axes>"
      ]
     },
     "metadata": {},
     "output_type": "display_data"
    }
   ],
   "source": [
    "import matplotlib.pyplot as plt\n",
    "\n",
    "plt.scatter(sold_offers['date-sold'], sold_offers['price'])\n",
    "plt.gcf().autofmt_xdate()\n",
    "plt.show()"
   ]
  },
  {
   "cell_type": "code",
   "execution_count": 20,
   "metadata": {},
   "outputs": [
    {
     "ename": "ValueError",
     "evalue": "NaTType does not support timestamp",
     "output_type": "error",
     "traceback": [
      "\u001b[1;31m---------------------------------------------------------------------------\u001b[0m",
      "\u001b[1;31mValueError\u001b[0m                                Traceback (most recent call last)",
      "Cell \u001b[1;32mIn[20], line 2\u001b[0m\n\u001b[0;32m      1\u001b[0m \u001b[39mimport\u001b[39;00m \u001b[39mseaborn\u001b[39;00m \u001b[39mas\u001b[39;00m \u001b[39msns\u001b[39;00m\n\u001b[1;32m----> 2\u001b[0m db_df[\u001b[39m'\u001b[39m\u001b[39mdate-sold-seconds\u001b[39m\u001b[39m'\u001b[39m] \u001b[39m=\u001b[39m db_df[\u001b[39m'\u001b[39;49m\u001b[39mdate-sold\u001b[39;49m\u001b[39m'\u001b[39;49m]\u001b[39m.\u001b[39;49mapply(\u001b[39mlambda\u001b[39;49;00m x: x\u001b[39m.\u001b[39;49mtimestamp())\n\u001b[0;32m      3\u001b[0m sns\u001b[39m.\u001b[39mregplot(x\u001b[39m=\u001b[39m\u001b[39m'\u001b[39m\u001b[39mdate-sold-seconds\u001b[39m\u001b[39m'\u001b[39m, y\u001b[39m=\u001b[39m\u001b[39m'\u001b[39m\u001b[39mprice\u001b[39m\u001b[39m'\u001b[39m, data\u001b[39m=\u001b[39mdb_df)\n",
      "File \u001b[1;32mc:\\Users\\krabc\\OneDrive\\Dokumenty\\Python\\lego-bot\\.venv\\Lib\\site-packages\\pandas\\core\\series.py:4626\u001b[0m, in \u001b[0;36mSeries.apply\u001b[1;34m(self, func, convert_dtype, args, **kwargs)\u001b[0m\n\u001b[0;32m   4516\u001b[0m \u001b[39mdef\u001b[39;00m \u001b[39mapply\u001b[39m(\n\u001b[0;32m   4517\u001b[0m     \u001b[39mself\u001b[39m,\n\u001b[0;32m   4518\u001b[0m     func: AggFuncType,\n\u001b[1;32m   (...)\u001b[0m\n\u001b[0;32m   4521\u001b[0m     \u001b[39m*\u001b[39m\u001b[39m*\u001b[39mkwargs,\n\u001b[0;32m   4522\u001b[0m ) \u001b[39m-\u001b[39m\u001b[39m>\u001b[39m DataFrame \u001b[39m|\u001b[39m Series:\n\u001b[0;32m   4523\u001b[0m \u001b[39m    \u001b[39m\u001b[39m\"\"\"\u001b[39;00m\n\u001b[0;32m   4524\u001b[0m \u001b[39m    Invoke function on values of Series.\u001b[39;00m\n\u001b[0;32m   4525\u001b[0m \n\u001b[1;32m   (...)\u001b[0m\n\u001b[0;32m   4624\u001b[0m \u001b[39m    dtype: float64\u001b[39;00m\n\u001b[0;32m   4625\u001b[0m \u001b[39m    \"\"\"\u001b[39;00m\n\u001b[1;32m-> 4626\u001b[0m     \u001b[39mreturn\u001b[39;00m SeriesApply(\u001b[39mself\u001b[39;49m, func, convert_dtype, args, kwargs)\u001b[39m.\u001b[39;49mapply()\n",
      "File \u001b[1;32mc:\\Users\\krabc\\OneDrive\\Dokumenty\\Python\\lego-bot\\.venv\\Lib\\site-packages\\pandas\\core\\apply.py:1025\u001b[0m, in \u001b[0;36mSeriesApply.apply\u001b[1;34m(self)\u001b[0m\n\u001b[0;32m   1022\u001b[0m     \u001b[39mreturn\u001b[39;00m \u001b[39mself\u001b[39m\u001b[39m.\u001b[39mapply_str()\n\u001b[0;32m   1024\u001b[0m \u001b[39m# self.f is Callable\u001b[39;00m\n\u001b[1;32m-> 1025\u001b[0m \u001b[39mreturn\u001b[39;00m \u001b[39mself\u001b[39;49m\u001b[39m.\u001b[39;49mapply_standard()\n",
      "File \u001b[1;32mc:\\Users\\krabc\\OneDrive\\Dokumenty\\Python\\lego-bot\\.venv\\Lib\\site-packages\\pandas\\core\\apply.py:1076\u001b[0m, in \u001b[0;36mSeriesApply.apply_standard\u001b[1;34m(self)\u001b[0m\n\u001b[0;32m   1074\u001b[0m     \u001b[39melse\u001b[39;00m:\n\u001b[0;32m   1075\u001b[0m         values \u001b[39m=\u001b[39m obj\u001b[39m.\u001b[39mastype(\u001b[39mobject\u001b[39m)\u001b[39m.\u001b[39m_values\n\u001b[1;32m-> 1076\u001b[0m         mapped \u001b[39m=\u001b[39m lib\u001b[39m.\u001b[39;49mmap_infer(\n\u001b[0;32m   1077\u001b[0m             values,\n\u001b[0;32m   1078\u001b[0m             f,\n\u001b[0;32m   1079\u001b[0m             convert\u001b[39m=\u001b[39;49m\u001b[39mself\u001b[39;49m\u001b[39m.\u001b[39;49mconvert_dtype,\n\u001b[0;32m   1080\u001b[0m         )\n\u001b[0;32m   1082\u001b[0m \u001b[39mif\u001b[39;00m \u001b[39mlen\u001b[39m(mapped) \u001b[39mand\u001b[39;00m \u001b[39misinstance\u001b[39m(mapped[\u001b[39m0\u001b[39m], ABCSeries):\n\u001b[0;32m   1083\u001b[0m     \u001b[39m# GH#43986 Need to do list(mapped) in order to get treated as nested\u001b[39;00m\n\u001b[0;32m   1084\u001b[0m     \u001b[39m#  See also GH#25959 regarding EA support\u001b[39;00m\n\u001b[0;32m   1085\u001b[0m     \u001b[39mreturn\u001b[39;00m obj\u001b[39m.\u001b[39m_constructor_expanddim(\u001b[39mlist\u001b[39m(mapped), index\u001b[39m=\u001b[39mobj\u001b[39m.\u001b[39mindex)\n",
      "File \u001b[1;32mc:\\Users\\krabc\\OneDrive\\Dokumenty\\Python\\lego-bot\\.venv\\Lib\\site-packages\\pandas\\_libs\\lib.pyx:2834\u001b[0m, in \u001b[0;36mpandas._libs.lib.map_infer\u001b[1;34m()\u001b[0m\n",
      "Cell \u001b[1;32mIn[20], line 2\u001b[0m, in \u001b[0;36m<lambda>\u001b[1;34m(x)\u001b[0m\n\u001b[0;32m      1\u001b[0m \u001b[39mimport\u001b[39;00m \u001b[39mseaborn\u001b[39;00m \u001b[39mas\u001b[39;00m \u001b[39msns\u001b[39;00m\n\u001b[1;32m----> 2\u001b[0m db_df[\u001b[39m'\u001b[39m\u001b[39mdate-sold-seconds\u001b[39m\u001b[39m'\u001b[39m] \u001b[39m=\u001b[39m db_df[\u001b[39m'\u001b[39m\u001b[39mdate-sold\u001b[39m\u001b[39m'\u001b[39m]\u001b[39m.\u001b[39mapply(\u001b[39mlambda\u001b[39;00m x: x\u001b[39m.\u001b[39;49mtimestamp())\n\u001b[0;32m      3\u001b[0m sns\u001b[39m.\u001b[39mregplot(x\u001b[39m=\u001b[39m\u001b[39m'\u001b[39m\u001b[39mdate-sold-seconds\u001b[39m\u001b[39m'\u001b[39m, y\u001b[39m=\u001b[39m\u001b[39m'\u001b[39m\u001b[39mprice\u001b[39m\u001b[39m'\u001b[39m, data\u001b[39m=\u001b[39mdb_df)\n",
      "File \u001b[1;32mc:\\Users\\krabc\\OneDrive\\Dokumenty\\Python\\lego-bot\\.venv\\Lib\\site-packages\\pandas\\_libs\\tslibs\\nattype.pyx:59\u001b[0m, in \u001b[0;36mpandas._libs.tslibs.nattype._make_error_func.f\u001b[1;34m()\u001b[0m\n",
      "\u001b[1;31mValueError\u001b[0m: NaTType does not support timestamp"
     ]
    }
   ],
   "source": [
    "import seaborn as sns\n",
    "db_df['date-sold-seconds'] = db_df['date-sold'].apply(lambda x: x.timestamp())\n",
    "sns.regplot(x='date-sold-seconds', y='price', data=db_df)"
   ]
  },
  {
   "cell_type": "code",
   "execution_count": null,
   "metadata": {},
   "outputs": [],
   "source": []
  }
 ],
 "metadata": {
  "kernelspec": {
   "display_name": "Python 3",
   "language": "python",
   "name": "python3"
  },
  "language_info": {
   "codemirror_mode": {
    "name": "ipython",
    "version": 3
   },
   "file_extension": ".py",
   "mimetype": "text/x-python",
   "name": "python",
   "nbconvert_exporter": "python",
   "pygments_lexer": "ipython3",
   "version": "3.11.3"
  },
  "orig_nbformat": 4
 },
 "nbformat": 4,
 "nbformat_minor": 2
}
